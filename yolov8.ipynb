{
 "cells": [
  {
   "cell_type": "code",
   "execution_count": 1,
   "id": "49a638f7-c8e3-4594-b9ac-751bc7438959",
   "metadata": {},
   "outputs": [],
   "source": [
    "#importing libraries\n",
    "import os\n",
    "import xml.etree.ElementTree as et\n",
    "from glob import glob\n",
    "import pandas as pd"
   ]
  },
  {
   "cell_type": "code",
   "execution_count": 2,
   "id": "d5bff636-bb71-4c16-968b-1d18dc9bcd2f",
   "metadata": {},
   "outputs": [],
   "source": [
    "#defining paths\n",
    "BASE_PATH= r'C:\\Users\\96657\\Downloads\\Oxford Pets.v2-by-species.voc'\n",
    "TRAIN_PATH= r'C:\\Users\\96657\\Downloads\\Oxford Pets.v2-by-species.voc\\dataset\\train'\n",
    "TEST_PATH= r'C:\\Users\\96657\\Downloads\\Oxford Pets.v2-by-species.voc\\dataset\\test'\n",
    "YAML_PATH= r'C:\\Users\\96657\\Downloads\\Oxford Pets.v2-by-species.voc\\data.yaml'"
   ]
  },
  {
   "cell_type": "code",
   "execution_count": 3,
   "id": "d5e2b6fa-4b20-4ef7-8cf2-26a8ebbcd357",
   "metadata": {},
   "outputs": [],
   "source": [
    "#extracting object information from xml files"
   ]
  },
  {
   "cell_type": "code",
   "execution_count": 4,
   "id": "7dcc16b4-8ab2-4130-8279-9496c97321a1",
   "metadata": {},
   "outputs": [],
   "source": [
    "def extract_obj_info(filename):\n",
    " tree= et.parse(filename)\n",
    " root= tree.getroot()\n",
    "    \n",
    " #initializing a new list for each file\n",
    " xml_data=[]\n",
    "    \n",
    " #extracting image title \n",
    " image_title=root.find('filename').text\n",
    "    \n",
    " #extracting image size\n",
    " width,height=int(root.find('size').find('width').text),int(root.find('size').find('height').text)\n",
    "    \n",
    " #extracting object label and bounding box parameters\n",
    " #creating for loop to extract all (multiple) objects from a single xml file\n",
    " objects=root.findall('object')\n",
    " for o in objects:\n",
    "     name=o.find('name').text\n",
    "     xmin=int(o.find('bndbox').find('xmin').text)\n",
    "     xmax=int(o.find('bndbox').find('xmax').text)\n",
    "     ymin=int(o.find('bndbox').find('ymin').text)\n",
    "     ymax=int(o.find('bndbox').find('ymax').text)\n",
    "     xml_data.append([image_title,width,height,name,xmin,xmax,ymin,ymax])\n",
    " return xml_data     \n",
    " "
   ]
  },
  {
   "cell_type": "code",
   "execution_count": 5,
   "id": "36df72fc-90d3-4886-b82b-ea3bf26f1dd8",
   "metadata": {},
   "outputs": [],
   "source": [
    "#loading xml files from training and testing set\n",
    "train_xml_list=glob(os.path.join(TRAIN_PATH, '*.xml'))\n",
    "test_xml_list=glob(os.path.join(TEST_PATH, '*.xml'))\n"
   ]
  },
  {
   "cell_type": "code",
   "execution_count": 6,
   "id": "cf510e9c-dfcf-49c5-a88c-61fd2fe30f46",
   "metadata": {},
   "outputs": [
    {
     "data": {
      "text/plain": [
       "['C:\\\\Users\\\\96657\\\\Downloads\\\\Oxford Pets.v2-by-species.voc\\\\dataset\\\\train\\\\Abyssinian_100_jpg.rf.ac857e7c2457ab89dd6edacb21e6fb7c.xml',\n",
       " 'C:\\\\Users\\\\96657\\\\Downloads\\\\Oxford Pets.v2-by-species.voc\\\\dataset\\\\train\\\\Abyssinian_102_jpg.rf.e89f4c1898ba0c2bf4ff8b24f47a5f4c.xml',\n",
       " 'C:\\\\Users\\\\96657\\\\Downloads\\\\Oxford Pets.v2-by-species.voc\\\\dataset\\\\train\\\\Abyssinian_103_jpg.rf.d6f56d3f97d62e11ab1c43036e98161f.xml']"
      ]
     },
     "execution_count": 6,
     "metadata": {},
     "output_type": "execute_result"
    }
   ],
   "source": [
    "#titles of first 3 xml files of train set\n",
    "train_xml_list[:3]"
   ]
  },
  {
   "cell_type": "code",
   "execution_count": 7,
   "id": "f2c9a22e-4578-45fd-bebf-c64477cecbd0",
   "metadata": {},
   "outputs": [],
   "source": [
    "#passing the list of xml files to the object info function\n",
    "train_data= []\n",
    "test_data= []\n",
    "\n",
    "#training data\n",
    "for train_list in map( extract_obj_info, train_xml_list):\n",
    "   #using extend not append as append will add the entire train_list to the train_data as one element (nested list). \n",
    "   #but i want that all elements of train_list be mapped to the train_data\n",
    "   train_data.extend(train_list)\n",
    "    \n",
    "#testing data\n",
    "for test_list in map( extract_obj_info, test_xml_list):\n",
    "   test_data.extend(test_list)\n",
    "    "
   ]
  },
  {
   "cell_type": "raw",
   "id": "14efbbed-0a39-4f84-a2fb-27b4eeecb907",
   "metadata": {},
   "source": [
    "train_data[:3]"
   ]
  },
  {
   "cell_type": "code",
   "execution_count": 8,
   "id": "4e81a16b-1ee7-48bd-a412-b9f015f13e3c",
   "metadata": {},
   "outputs": [
    {
     "name": "stdout",
     "output_type": "stream",
     "text": [
      "<class 'list'>\n",
      "2527\n"
     ]
    }
   ],
   "source": [
    "print(type(train_data))\n",
    "print(len(train_data))\n"
   ]
  },
  {
   "cell_type": "code",
   "execution_count": 9,
   "id": "d345308a-05dc-46f4-adb6-957daf4119e4",
   "metadata": {},
   "outputs": [
    {
     "name": "stdout",
     "output_type": "stream",
     "text": [
      "[['Abyssinian_100_jpg.rf.ac857e7c2457ab89dd6edacb21e6fb7c.jpg', 394, 500, 'cat', 151, 335, 71, 267], ['Abyssinian_102_jpg.rf.e89f4c1898ba0c2bf4ff8b24f47a5f4c.jpg', 500, 465, 'cat', 23, 325, 27, 320], ['Abyssinian_103_jpg.rf.d6f56d3f97d62e11ab1c43036e98161f.jpg', 500, 351, 'cat', 241, 362, 68, 196]]\n"
     ]
    }
   ],
   "source": [
    "print(train_data[:3])\n"
   ]
  },
  {
   "cell_type": "code",
   "execution_count": 10,
   "id": "ed548c9b-b16f-4a39-b69f-d20d956ef4cd",
   "metadata": {},
   "outputs": [
    {
     "data": {
      "text/plain": [
       "[['Abyssinian_127_jpg.rf.4425d22917ead085ad038931b4806c8f.jpg',\n",
       "  266,\n",
       "  400,\n",
       "  'cat',\n",
       "  96,\n",
       "  179,\n",
       "  246,\n",
       "  328],\n",
       " ['Abyssinian_131_jpg.rf.e8acfb60e4d01529586b9d81930b35a2.jpg',\n",
       "  311,\n",
       "  320,\n",
       "  'cat',\n",
       "  17,\n",
       "  206,\n",
       "  25,\n",
       "  180],\n",
       " ['Abyssinian_149_jpg.rf.84b8351968b42b38478e0b6c35d58d07.jpg',\n",
       "  500,\n",
       "  375,\n",
       "  'cat',\n",
       "  155,\n",
       "  347,\n",
       "  39,\n",
       "  251]]"
      ]
     },
     "execution_count": 10,
     "metadata": {},
     "output_type": "execute_result"
    }
   ],
   "source": [
    "test_data[:3]"
   ]
  },
  {
   "cell_type": "code",
   "execution_count": 10,
   "id": "a6be86d5-0c58-4ee6-bb3a-c13d320179c8",
   "metadata": {},
   "outputs": [],
   "source": [
    "#converting into dataframe format\n",
    "train_df=pd.DataFrame(train_data, columns= ['filename', 'width', 'height', 'name', 'xmin', 'xmax', 'ymin', 'ymax'])\n",
    "test_df=pd.DataFrame(test_data, columns= ['filename', 'width', 'height', 'name', 'xmin', 'xmax', 'ymin', 'ymax'])"
   ]
  },
  {
   "cell_type": "code",
   "execution_count": 11,
   "id": "2e845c4f-ac39-4025-80f2-1976313dce5f",
   "metadata": {},
   "outputs": [
    {
     "data": {
      "text/plain": [
       "(2527, 8)"
      ]
     },
     "execution_count": 11,
     "metadata": {},
     "output_type": "execute_result"
    }
   ],
   "source": [
    "#visualising train_df\n",
    "train_df.shape"
   ]
  },
  {
   "cell_type": "code",
   "execution_count": 12,
   "id": "54b013b9-375f-41f7-87f1-25e97504d298",
   "metadata": {},
   "outputs": [
    {
     "data": {
      "text/html": [
       "<div>\n",
       "<style scoped>\n",
       "    .dataframe tbody tr th:only-of-type {\n",
       "        vertical-align: middle;\n",
       "    }\n",
       "\n",
       "    .dataframe tbody tr th {\n",
       "        vertical-align: top;\n",
       "    }\n",
       "\n",
       "    .dataframe thead th {\n",
       "        text-align: right;\n",
       "    }\n",
       "</style>\n",
       "<table border=\"1\" class=\"dataframe\">\n",
       "  <thead>\n",
       "    <tr style=\"text-align: right;\">\n",
       "      <th></th>\n",
       "      <th>filename</th>\n",
       "      <th>width</th>\n",
       "      <th>height</th>\n",
       "      <th>name</th>\n",
       "      <th>xmin</th>\n",
       "      <th>xmax</th>\n",
       "      <th>ymin</th>\n",
       "      <th>ymax</th>\n",
       "    </tr>\n",
       "  </thead>\n",
       "  <tbody>\n",
       "    <tr>\n",
       "      <th>0</th>\n",
       "      <td>Abyssinian_100_jpg.rf.ac857e7c2457ab89dd6edacb...</td>\n",
       "      <td>394</td>\n",
       "      <td>500</td>\n",
       "      <td>cat</td>\n",
       "      <td>151</td>\n",
       "      <td>335</td>\n",
       "      <td>71</td>\n",
       "      <td>267</td>\n",
       "    </tr>\n",
       "    <tr>\n",
       "      <th>1</th>\n",
       "      <td>Abyssinian_102_jpg.rf.e89f4c1898ba0c2bf4ff8b24...</td>\n",
       "      <td>500</td>\n",
       "      <td>465</td>\n",
       "      <td>cat</td>\n",
       "      <td>23</td>\n",
       "      <td>325</td>\n",
       "      <td>27</td>\n",
       "      <td>320</td>\n",
       "    </tr>\n",
       "    <tr>\n",
       "      <th>2</th>\n",
       "      <td>Abyssinian_103_jpg.rf.d6f56d3f97d62e11ab1c4303...</td>\n",
       "      <td>500</td>\n",
       "      <td>351</td>\n",
       "      <td>cat</td>\n",
       "      <td>241</td>\n",
       "      <td>362</td>\n",
       "      <td>68</td>\n",
       "      <td>196</td>\n",
       "    </tr>\n",
       "  </tbody>\n",
       "</table>\n",
       "</div>"
      ],
      "text/plain": [
       "                                            filename  width  height name  \\\n",
       "0  Abyssinian_100_jpg.rf.ac857e7c2457ab89dd6edacb...    394     500  cat   \n",
       "1  Abyssinian_102_jpg.rf.e89f4c1898ba0c2bf4ff8b24...    500     465  cat   \n",
       "2  Abyssinian_103_jpg.rf.d6f56d3f97d62e11ab1c4303...    500     351  cat   \n",
       "\n",
       "   xmin  xmax  ymin  ymax  \n",
       "0   151   335    71   267  \n",
       "1    23   325    27   320  \n",
       "2   241   362    68   196  "
      ]
     },
     "execution_count": 12,
     "metadata": {},
     "output_type": "execute_result"
    }
   ],
   "source": [
    "# displaying first five rows\n",
    "train_df.head(3)"
   ]
  },
  {
   "cell_type": "code",
   "execution_count": 13,
   "id": "7788b1bc-00b0-4d6f-92d1-7fe7c10a0658",
   "metadata": {},
   "outputs": [
    {
     "data": {
      "text/plain": [
       "array(['cat', 'dog'], dtype=object)"
      ]
     },
     "execution_count": 13,
     "metadata": {},
     "output_type": "execute_result"
    }
   ],
   "source": [
    "train_df['name'].unique()\n"
   ]
  },
  {
   "cell_type": "code",
   "execution_count": 14,
   "id": "c3f95df7-f8c4-4d5c-bb86-09d3dc7089dc",
   "metadata": {},
   "outputs": [
    {
     "data": {
      "text/plain": [
       "2523"
      ]
     },
     "execution_count": 14,
     "metadata": {},
     "output_type": "execute_result"
    }
   ],
   "source": [
    "len(train_df['filename'].unique())"
   ]
  },
  {
   "cell_type": "code",
   "execution_count": 15,
   "id": "763b3806-89a5-42dd-bb2b-e5fdfd0d0770",
   "metadata": {},
   "outputs": [
    {
     "data": {
      "text/plain": [
       "name\n",
       "dog    1731\n",
       "cat     796\n",
       "Name: count, dtype: int64"
      ]
     },
     "execution_count": 15,
     "metadata": {},
     "output_type": "execute_result"
    }
   ],
   "source": [
    "#checking the count of instances for every label\n",
    "train_df['name'].value_counts()"
   ]
  },
  {
   "cell_type": "code",
   "execution_count": 16,
   "id": "4e7ba138-3f63-4407-92e8-8effed809a6d",
   "metadata": {},
   "outputs": [
    {
     "data": {
      "text/plain": [
       "(358, 8)"
      ]
     },
     "execution_count": 16,
     "metadata": {},
     "output_type": "execute_result"
    }
   ],
   "source": [
    "#visualizing test_df\n",
    "test_df.shape"
   ]
  },
  {
   "cell_type": "code",
   "execution_count": 18,
   "id": "5f937c7f-82fa-4589-b574-859f360f5d15",
   "metadata": {},
   "outputs": [
    {
     "data": {
      "text/html": [
       "<div>\n",
       "<style scoped>\n",
       "    .dataframe tbody tr th:only-of-type {\n",
       "        vertical-align: middle;\n",
       "    }\n",
       "\n",
       "    .dataframe tbody tr th {\n",
       "        vertical-align: top;\n",
       "    }\n",
       "\n",
       "    .dataframe thead th {\n",
       "        text-align: right;\n",
       "    }\n",
       "</style>\n",
       "<table border=\"1\" class=\"dataframe\">\n",
       "  <thead>\n",
       "    <tr style=\"text-align: right;\">\n",
       "      <th></th>\n",
       "      <th>filename</th>\n",
       "      <th>width</th>\n",
       "      <th>height</th>\n",
       "      <th>name</th>\n",
       "      <th>xmin</th>\n",
       "      <th>xmax</th>\n",
       "      <th>ymin</th>\n",
       "      <th>ymax</th>\n",
       "    </tr>\n",
       "  </thead>\n",
       "  <tbody>\n",
       "    <tr>\n",
       "      <th>0</th>\n",
       "      <td>Abyssinian_127_jpg.rf.4425d22917ead085ad038931...</td>\n",
       "      <td>266</td>\n",
       "      <td>400</td>\n",
       "      <td>cat</td>\n",
       "      <td>96</td>\n",
       "      <td>179</td>\n",
       "      <td>246</td>\n",
       "      <td>328</td>\n",
       "    </tr>\n",
       "    <tr>\n",
       "      <th>1</th>\n",
       "      <td>Abyssinian_131_jpg.rf.e8acfb60e4d01529586b9d81...</td>\n",
       "      <td>311</td>\n",
       "      <td>320</td>\n",
       "      <td>cat</td>\n",
       "      <td>17</td>\n",
       "      <td>206</td>\n",
       "      <td>25</td>\n",
       "      <td>180</td>\n",
       "    </tr>\n",
       "    <tr>\n",
       "      <th>2</th>\n",
       "      <td>Abyssinian_149_jpg.rf.84b8351968b42b38478e0b6c...</td>\n",
       "      <td>500</td>\n",
       "      <td>375</td>\n",
       "      <td>cat</td>\n",
       "      <td>155</td>\n",
       "      <td>347</td>\n",
       "      <td>39</td>\n",
       "      <td>251</td>\n",
       "    </tr>\n",
       "  </tbody>\n",
       "</table>\n",
       "</div>"
      ],
      "text/plain": [
       "                                            filename  width  height name  \\\n",
       "0  Abyssinian_127_jpg.rf.4425d22917ead085ad038931...    266     400  cat   \n",
       "1  Abyssinian_131_jpg.rf.e8acfb60e4d01529586b9d81...    311     320  cat   \n",
       "2  Abyssinian_149_jpg.rf.84b8351968b42b38478e0b6c...    500     375  cat   \n",
       "\n",
       "   xmin  xmax  ymin  ymax  \n",
       "0    96   179   246   328  \n",
       "1    17   206    25   180  \n",
       "2   155   347    39   251  "
      ]
     },
     "execution_count": 18,
     "metadata": {},
     "output_type": "execute_result"
    }
   ],
   "source": [
    "test_df.head(3)"
   ]
  },
  {
   "cell_type": "code",
   "execution_count": 19,
   "id": "7918e378-dddb-4392-a90d-51148c9f7a9d",
   "metadata": {},
   "outputs": [
    {
     "data": {
      "text/plain": [
       "358"
      ]
     },
     "execution_count": 19,
     "metadata": {},
     "output_type": "execute_result"
    }
   ],
   "source": [
    "len(test_df['filename'].unique())"
   ]
  },
  {
   "cell_type": "code",
   "execution_count": 20,
   "id": "4928a6a8-4135-48fb-a8d3-8b7cc90789d0",
   "metadata": {},
   "outputs": [],
   "source": [
    "#calculating normalized bounding box coordinates and dimensions and label encoding\n",
    "#adding new columns to testing data\n",
    "for df in (train_df, test_df):\n",
    "  df['centre x']= ((df['xmin']+ df['xmax'])/2)/df['width']\n",
    "  df['centre y']= ((df['ymin']+ df['ymax'])/2)/df['height']\n",
    "  df['w']= ((df['xmax']- df['xmin'])/2)/df['width']\n",
    "  df['h']= ((df['ymax']- df['ymin'])/2)/df['height']\n",
    "  #label encoding\n",
    "#data is in categorical format (cat or dog) but we have to convert it in numerical format\n",
    "#replace cat with 0 and dog with 1\n",
    "  labels={'cat':0, 'dog':1}\n",
    "  df['id']=df['name'].map(labels)"
   ]
  },
  {
   "cell_type": "code",
   "execution_count": 21,
   "id": "b52c028a-ce51-4a08-a66a-3f8693dd40bc",
   "metadata": {},
   "outputs": [
    {
     "data": {
      "text/html": [
       "<div>\n",
       "<style scoped>\n",
       "    .dataframe tbody tr th:only-of-type {\n",
       "        vertical-align: middle;\n",
       "    }\n",
       "\n",
       "    .dataframe tbody tr th {\n",
       "        vertical-align: top;\n",
       "    }\n",
       "\n",
       "    .dataframe thead th {\n",
       "        text-align: right;\n",
       "    }\n",
       "</style>\n",
       "<table border=\"1\" class=\"dataframe\">\n",
       "  <thead>\n",
       "    <tr style=\"text-align: right;\">\n",
       "      <th></th>\n",
       "      <th>filename</th>\n",
       "      <th>width</th>\n",
       "      <th>height</th>\n",
       "      <th>name</th>\n",
       "      <th>xmin</th>\n",
       "      <th>xmax</th>\n",
       "      <th>ymin</th>\n",
       "      <th>ymax</th>\n",
       "      <th>centre x</th>\n",
       "      <th>centre y</th>\n",
       "      <th>w</th>\n",
       "      <th>h</th>\n",
       "      <th>id</th>\n",
       "    </tr>\n",
       "  </thead>\n",
       "  <tbody>\n",
       "    <tr>\n",
       "      <th>0</th>\n",
       "      <td>Abyssinian_100_jpg.rf.ac857e7c2457ab89dd6edacb...</td>\n",
       "      <td>394</td>\n",
       "      <td>500</td>\n",
       "      <td>cat</td>\n",
       "      <td>151</td>\n",
       "      <td>335</td>\n",
       "      <td>71</td>\n",
       "      <td>267</td>\n",
       "      <td>0.616751</td>\n",
       "      <td>0.338000</td>\n",
       "      <td>0.233503</td>\n",
       "      <td>0.196000</td>\n",
       "      <td>0</td>\n",
       "    </tr>\n",
       "    <tr>\n",
       "      <th>1</th>\n",
       "      <td>Abyssinian_102_jpg.rf.e89f4c1898ba0c2bf4ff8b24...</td>\n",
       "      <td>500</td>\n",
       "      <td>465</td>\n",
       "      <td>cat</td>\n",
       "      <td>23</td>\n",
       "      <td>325</td>\n",
       "      <td>27</td>\n",
       "      <td>320</td>\n",
       "      <td>0.348000</td>\n",
       "      <td>0.373118</td>\n",
       "      <td>0.302000</td>\n",
       "      <td>0.315054</td>\n",
       "      <td>0</td>\n",
       "    </tr>\n",
       "    <tr>\n",
       "      <th>2</th>\n",
       "      <td>Abyssinian_103_jpg.rf.d6f56d3f97d62e11ab1c4303...</td>\n",
       "      <td>500</td>\n",
       "      <td>351</td>\n",
       "      <td>cat</td>\n",
       "      <td>241</td>\n",
       "      <td>362</td>\n",
       "      <td>68</td>\n",
       "      <td>196</td>\n",
       "      <td>0.603000</td>\n",
       "      <td>0.376068</td>\n",
       "      <td>0.121000</td>\n",
       "      <td>0.182336</td>\n",
       "      <td>0</td>\n",
       "    </tr>\n",
       "  </tbody>\n",
       "</table>\n",
       "</div>"
      ],
      "text/plain": [
       "                                            filename  width  height name  \\\n",
       "0  Abyssinian_100_jpg.rf.ac857e7c2457ab89dd6edacb...    394     500  cat   \n",
       "1  Abyssinian_102_jpg.rf.e89f4c1898ba0c2bf4ff8b24...    500     465  cat   \n",
       "2  Abyssinian_103_jpg.rf.d6f56d3f97d62e11ab1c4303...    500     351  cat   \n",
       "\n",
       "   xmin  xmax  ymin  ymax  centre x  centre y         w         h  id  \n",
       "0   151   335    71   267  0.616751  0.338000  0.233503  0.196000   0  \n",
       "1    23   325    27   320  0.348000  0.373118  0.302000  0.315054   0  \n",
       "2   241   362    68   196  0.603000  0.376068  0.121000  0.182336   0  "
      ]
     },
     "execution_count": 21,
     "metadata": {},
     "output_type": "execute_result"
    }
   ],
   "source": [
    "train_df.head(3)"
   ]
  },
  {
   "cell_type": "code",
   "execution_count": 22,
   "id": "b73188b5-8890-44af-91b2-fd1c91e40a95",
   "metadata": {},
   "outputs": [
    {
     "data": {
      "text/html": [
       "<div>\n",
       "<style scoped>\n",
       "    .dataframe tbody tr th:only-of-type {\n",
       "        vertical-align: middle;\n",
       "    }\n",
       "\n",
       "    .dataframe tbody tr th {\n",
       "        vertical-align: top;\n",
       "    }\n",
       "\n",
       "    .dataframe thead th {\n",
       "        text-align: right;\n",
       "    }\n",
       "</style>\n",
       "<table border=\"1\" class=\"dataframe\">\n",
       "  <thead>\n",
       "    <tr style=\"text-align: right;\">\n",
       "      <th></th>\n",
       "      <th>filename</th>\n",
       "      <th>width</th>\n",
       "      <th>height</th>\n",
       "      <th>name</th>\n",
       "      <th>xmin</th>\n",
       "      <th>xmax</th>\n",
       "      <th>ymin</th>\n",
       "      <th>ymax</th>\n",
       "      <th>centre x</th>\n",
       "      <th>centre y</th>\n",
       "      <th>w</th>\n",
       "      <th>h</th>\n",
       "      <th>id</th>\n",
       "    </tr>\n",
       "  </thead>\n",
       "  <tbody>\n",
       "    <tr>\n",
       "      <th>0</th>\n",
       "      <td>Abyssinian_127_jpg.rf.4425d22917ead085ad038931...</td>\n",
       "      <td>266</td>\n",
       "      <td>400</td>\n",
       "      <td>cat</td>\n",
       "      <td>96</td>\n",
       "      <td>179</td>\n",
       "      <td>246</td>\n",
       "      <td>328</td>\n",
       "      <td>0.516917</td>\n",
       "      <td>0.717500</td>\n",
       "      <td>0.156015</td>\n",
       "      <td>0.102500</td>\n",
       "      <td>0</td>\n",
       "    </tr>\n",
       "    <tr>\n",
       "      <th>1</th>\n",
       "      <td>Abyssinian_131_jpg.rf.e8acfb60e4d01529586b9d81...</td>\n",
       "      <td>311</td>\n",
       "      <td>320</td>\n",
       "      <td>cat</td>\n",
       "      <td>17</td>\n",
       "      <td>206</td>\n",
       "      <td>25</td>\n",
       "      <td>180</td>\n",
       "      <td>0.358521</td>\n",
       "      <td>0.320312</td>\n",
       "      <td>0.303859</td>\n",
       "      <td>0.242188</td>\n",
       "      <td>0</td>\n",
       "    </tr>\n",
       "    <tr>\n",
       "      <th>2</th>\n",
       "      <td>Abyssinian_149_jpg.rf.84b8351968b42b38478e0b6c...</td>\n",
       "      <td>500</td>\n",
       "      <td>375</td>\n",
       "      <td>cat</td>\n",
       "      <td>155</td>\n",
       "      <td>347</td>\n",
       "      <td>39</td>\n",
       "      <td>251</td>\n",
       "      <td>0.502000</td>\n",
       "      <td>0.386667</td>\n",
       "      <td>0.192000</td>\n",
       "      <td>0.282667</td>\n",
       "      <td>0</td>\n",
       "    </tr>\n",
       "  </tbody>\n",
       "</table>\n",
       "</div>"
      ],
      "text/plain": [
       "                                            filename  width  height name  \\\n",
       "0  Abyssinian_127_jpg.rf.4425d22917ead085ad038931...    266     400  cat   \n",
       "1  Abyssinian_131_jpg.rf.e8acfb60e4d01529586b9d81...    311     320  cat   \n",
       "2  Abyssinian_149_jpg.rf.84b8351968b42b38478e0b6c...    500     375  cat   \n",
       "\n",
       "   xmin  xmax  ymin  ymax  centre x  centre y         w         h  id  \n",
       "0    96   179   246   328  0.516917  0.717500  0.156015  0.102500   0  \n",
       "1    17   206    25   180  0.358521  0.320312  0.303859  0.242188   0  \n",
       "2   155   347    39   251  0.502000  0.386667  0.192000  0.282667   0  "
      ]
     },
     "execution_count": 22,
     "metadata": {},
     "output_type": "execute_result"
    }
   ],
   "source": [
    "test_df.head(3)"
   ]
  },
  {
   "cell_type": "code",
   "execution_count": 23,
   "id": "5daf3f4c-a1cf-4487-91f3-220434d6fe35",
   "metadata": {},
   "outputs": [],
   "source": [
    "#creating text files\n",
    "#for every image a corresponding text file will be generated holding the values of centre x, y , w,h, id\n",
    "def save_labels(df, folder_path):\n",
    "    for filename, group in df.groupby('filename'):    #groupby [prevents multiple text files forming for a single image\n",
    "      txt_filename= os.path.join(folder_path, os.path.splitext(filename)[0] + '.txt') \n",
    "# every image has image title and extension. image title is at 0th index and extension at 1th. here, we extracted only the image title (at oth index).\n",
    "# txt files will be generated with same filenames\n",
    "#now storing parameters in the txt file\n",
    "      group[['id', 'centre x', 'centre y', 'w', 'h']].to_csv(txt_filename, sep=' ', index=False, header=False ) #usually csv files have comma separated values, but we want space separated. also we dont want index or header.\n",
    "    \n"
   ]
  },
  {
   "cell_type": "code",
   "execution_count": 24,
   "id": "4f7445ab-06d4-463c-8918-fa93fd0b6814",
   "metadata": {},
   "outputs": [],
   "source": [
    "save_labels(train_df, TRAIN_PATH)\n",
    "save_labels(test_df, TEST_PATH)\n",
    "\n",
    "\n"
   ]
  },
  {
   "cell_type": "code",
   "execution_count": 25,
   "id": "c06807dd-2575-44f8-8409-ec0cd6e2d407",
   "metadata": {},
   "outputs": [],
   "source": [
    "#creating YAML file\n",
    "\n"
   ]
  },
  {
   "cell_type": "code",
   "execution_count": 26,
   "id": "cfd354f0-7114-4bbd-a101-d21826d3635d",
   "metadata": {},
   "outputs": [],
   "source": [
    "#training YOLO model"
   ]
  },
  {
   "cell_type": "code",
   "execution_count": 27,
   "id": "598aee03-3f41-490e-802b-f1c4962b165f",
   "metadata": {},
   "outputs": [
    {
     "name": "stdout",
     "output_type": "stream",
     "text": [
      "Requirement already satisfied: ultralytics in c:\\users\\96657\\appdata\\local\\programs\\python\\python312\\lib\\site-packages (8.3.25)\n",
      "Requirement already satisfied: numpy>=1.23.0 in c:\\users\\96657\\appdata\\local\\programs\\python\\python312\\lib\\site-packages (from ultralytics) (1.26.4)\n",
      "Requirement already satisfied: matplotlib>=3.3.0 in c:\\users\\96657\\appdata\\local\\programs\\python\\python312\\lib\\site-packages (from ultralytics) (3.9.2)\n",
      "Requirement already satisfied: opencv-python>=4.6.0 in c:\\users\\96657\\appdata\\local\\programs\\python\\python312\\lib\\site-packages (from ultralytics) (4.10.0.84)\n",
      "Requirement already satisfied: pillow>=7.1.2 in c:\\users\\96657\\appdata\\local\\programs\\python\\python312\\lib\\site-packages (from ultralytics) (10.4.0)\n",
      "Requirement already satisfied: pyyaml>=5.3.1 in c:\\users\\96657\\appdata\\local\\programs\\python\\python312\\lib\\site-packages (from ultralytics) (6.0.2)\n",
      "Requirement already satisfied: requests>=2.23.0 in c:\\users\\96657\\appdata\\local\\programs\\python\\python312\\lib\\site-packages (from ultralytics) (2.32.3)\n",
      "Requirement already satisfied: scipy>=1.4.1 in c:\\users\\96657\\appdata\\local\\programs\\python\\python312\\lib\\site-packages (from ultralytics) (1.14.1)\n",
      "Requirement already satisfied: torch>=1.8.0 in c:\\users\\96657\\appdata\\local\\programs\\python\\python312\\lib\\site-packages (from ultralytics) (2.5.1)\n",
      "Requirement already satisfied: torchvision>=0.9.0 in c:\\users\\96657\\appdata\\local\\programs\\python\\python312\\lib\\site-packages (from ultralytics) (0.20.1)\n",
      "Requirement already satisfied: tqdm>=4.64.0 in c:\\users\\96657\\appdata\\local\\programs\\python\\python312\\lib\\site-packages (from ultralytics) (4.66.6)\n",
      "Requirement already satisfied: psutil in c:\\users\\96657\\appdata\\local\\programs\\python\\python312\\lib\\site-packages (from ultralytics) (6.0.0)\n",
      "Requirement already satisfied: py-cpuinfo in c:\\users\\96657\\appdata\\local\\programs\\python\\python312\\lib\\site-packages (from ultralytics) (9.0.0)\n",
      "Requirement already satisfied: pandas>=1.1.4 in c:\\users\\96657\\appdata\\local\\programs\\python\\python312\\lib\\site-packages (from ultralytics) (2.2.3)\n",
      "Requirement already satisfied: seaborn>=0.11.0 in c:\\users\\96657\\appdata\\local\\programs\\python\\python312\\lib\\site-packages (from ultralytics) (0.13.2)\n",
      "Requirement already satisfied: ultralytics-thop>=2.0.0 in c:\\users\\96657\\appdata\\local\\programs\\python\\python312\\lib\\site-packages (from ultralytics) (2.0.10)\n",
      "Requirement already satisfied: contourpy>=1.0.1 in c:\\users\\96657\\appdata\\local\\programs\\python\\python312\\lib\\site-packages (from matplotlib>=3.3.0->ultralytics) (1.3.0)\n",
      "Requirement already satisfied: cycler>=0.10 in c:\\users\\96657\\appdata\\local\\programs\\python\\python312\\lib\\site-packages (from matplotlib>=3.3.0->ultralytics) (0.12.1)\n",
      "Requirement already satisfied: fonttools>=4.22.0 in c:\\users\\96657\\appdata\\local\\programs\\python\\python312\\lib\\site-packages (from matplotlib>=3.3.0->ultralytics) (4.54.1)\n",
      "Requirement already satisfied: kiwisolver>=1.3.1 in c:\\users\\96657\\appdata\\local\\programs\\python\\python312\\lib\\site-packages (from matplotlib>=3.3.0->ultralytics) (1.4.7)\n",
      "Requirement already satisfied: packaging>=20.0 in c:\\users\\96657\\appdata\\local\\programs\\python\\python312\\lib\\site-packages (from matplotlib>=3.3.0->ultralytics) (24.1)\n",
      "Requirement already satisfied: pyparsing>=2.3.1 in c:\\users\\96657\\appdata\\local\\programs\\python\\python312\\lib\\site-packages (from matplotlib>=3.3.0->ultralytics) (3.1.4)\n",
      "Requirement already satisfied: python-dateutil>=2.7 in c:\\users\\96657\\appdata\\local\\programs\\python\\python312\\lib\\site-packages (from matplotlib>=3.3.0->ultralytics) (2.9.0.post0)\n",
      "Requirement already satisfied: pytz>=2020.1 in c:\\users\\96657\\appdata\\local\\programs\\python\\python312\\lib\\site-packages (from pandas>=1.1.4->ultralytics) (2024.2)\n",
      "Requirement already satisfied: tzdata>=2022.7 in c:\\users\\96657\\appdata\\local\\programs\\python\\python312\\lib\\site-packages (from pandas>=1.1.4->ultralytics) (2024.2)\n",
      "Requirement already satisfied: charset-normalizer<4,>=2 in c:\\users\\96657\\appdata\\local\\programs\\python\\python312\\lib\\site-packages (from requests>=2.23.0->ultralytics) (3.3.2)\n",
      "Requirement already satisfied: idna<4,>=2.5 in c:\\users\\96657\\appdata\\local\\programs\\python\\python312\\lib\\site-packages (from requests>=2.23.0->ultralytics) (3.10)\n",
      "Requirement already satisfied: urllib3<3,>=1.21.1 in c:\\users\\96657\\appdata\\local\\programs\\python\\python312\\lib\\site-packages (from requests>=2.23.0->ultralytics) (2.2.3)\n",
      "Requirement already satisfied: certifi>=2017.4.17 in c:\\users\\96657\\appdata\\local\\programs\\python\\python312\\lib\\site-packages (from requests>=2.23.0->ultralytics) (2024.8.30)\n",
      "Requirement already satisfied: filelock in c:\\users\\96657\\appdata\\local\\programs\\python\\python312\\lib\\site-packages (from torch>=1.8.0->ultralytics) (3.16.1)\n",
      "Requirement already satisfied: typing-extensions>=4.8.0 in c:\\users\\96657\\appdata\\local\\programs\\python\\python312\\lib\\site-packages (from torch>=1.8.0->ultralytics) (4.12.2)\n",
      "Requirement already satisfied: networkx in c:\\users\\96657\\appdata\\local\\programs\\python\\python312\\lib\\site-packages (from torch>=1.8.0->ultralytics) (3.4.2)\n",
      "Requirement already satisfied: jinja2 in c:\\users\\96657\\appdata\\local\\programs\\python\\python312\\lib\\site-packages (from torch>=1.8.0->ultralytics) (3.1.4)\n",
      "Requirement already satisfied: fsspec in c:\\users\\96657\\appdata\\local\\programs\\python\\python312\\lib\\site-packages (from torch>=1.8.0->ultralytics) (2024.10.0)\n",
      "Requirement already satisfied: setuptools in c:\\users\\96657\\appdata\\local\\programs\\python\\python312\\lib\\site-packages (from torch>=1.8.0->ultralytics) (75.1.0)\n",
      "Requirement already satisfied: sympy==1.13.1 in c:\\users\\96657\\appdata\\local\\programs\\python\\python312\\lib\\site-packages (from torch>=1.8.0->ultralytics) (1.13.1)\n",
      "Requirement already satisfied: mpmath<1.4,>=1.1.0 in c:\\users\\96657\\appdata\\local\\programs\\python\\python312\\lib\\site-packages (from sympy==1.13.1->torch>=1.8.0->ultralytics) (1.3.0)\n",
      "Requirement already satisfied: colorama in c:\\users\\96657\\appdata\\local\\programs\\python\\python312\\lib\\site-packages (from tqdm>=4.64.0->ultralytics) (0.4.6)\n",
      "Requirement already satisfied: six>=1.5 in c:\\users\\96657\\appdata\\local\\programs\\python\\python312\\lib\\site-packages (from python-dateutil>=2.7->matplotlib>=3.3.0->ultralytics) (1.16.0)\n",
      "Requirement already satisfied: MarkupSafe>=2.0 in c:\\users\\96657\\appdata\\local\\programs\\python\\python312\\lib\\site-packages (from jinja2->torch>=1.8.0->ultralytics) (2.1.5)\n"
     ]
    }
   ],
   "source": [
    "!pip install ultralytics"
   ]
  },
  {
   "cell_type": "code",
   "execution_count": 28,
   "id": "58a51845-c74d-4c53-af28-e6774910ed33",
   "metadata": {},
   "outputs": [],
   "source": [
    "os.chdir(BASE_PATH)"
   ]
  },
  {
   "cell_type": "code",
   "execution_count": 29,
   "id": "a288ea2e-6aac-4a23-a471-37b56e5dbcad",
   "metadata": {},
   "outputs": [
    {
     "name": "stdout",
     "output_type": "stream",
     "text": [
      " Volume in drive C is Windows-SSD\n",
      " Volume Serial Number is C669-8162\n",
      "\n",
      " Directory of C:\\Users\\96657\\Downloads\\Oxford Pets.v2-by-species.voc\n",
      "\n",
      "10/31/2024  01:01 AM    <DIR>          .\n",
      "10/30/2024  08:35 PM    <DIR>          ..\n",
      "10/31/2024  12:00 AM    <DIR>          .ipynb_checkpoints\n",
      "10/31/2024  01:15 AM               175 data.yaml\n",
      "10/31/2024  01:16 AM    <DIR>          dataset\n",
      "10/30/2024  08:35 PM               763 README.dataset.txt\n",
      "10/30/2024  08:35 PM               380 README.roboflow.txt\n",
      "10/31/2024  12:51 AM    <DIR>          runs\n",
      "               3 File(s)          1,318 bytes\n",
      "               5 Dir(s)  36,914,839,552 bytes free\n"
     ]
    }
   ],
   "source": [
    "ls\n"
   ]
  },
  {
   "cell_type": "markdown",
   "id": "89472805-766b-43de-a2aa-870c32b672e9",
   "metadata": {},
   "source": [
    "from ultralytics import YOLO"
   ]
  },
  {
   "cell_type": "code",
   "execution_count": 30,
   "id": "1bd65f27-e1c3-4eb2-859f-7bf5c0d39f3d",
   "metadata": {},
   "outputs": [],
   "source": [
    "# Step 1: Import the necessary library\n",
    "from ultralytics import YOLO\n",
    "\n",
    "# Step 2: Load the model configuration\n",
    "model = YOLO('yolov8s.yaml')\n",
    "\n",
    "\n"
   ]
  },
  {
   "cell_type": "code",
   "execution_count": null,
   "id": "199d8907-c782-41b9-b4ca-1ba89492c9df",
   "metadata": {
    "scrolled": true
   },
   "outputs": [
    {
     "name": "stdout",
     "output_type": "stream",
     "text": [
      "Ultralytics 8.3.25  Python-3.12.6 torch-2.5.1+cpu CPU (Intel Core(TM) i5-8265U 1.60GHz)\n",
      "\u001b[34m\u001b[1mengine\\trainer: \u001b[0mtask=detect, mode=train, model=yolov8s.yaml, data=data.yaml, epochs=30, time=None, patience=100, batch=8, imgsz=640, save=True, save_period=-1, cache=False, device=None, workers=8, project=None, name=Model5, exist_ok=False, pretrained=True, optimizer=auto, verbose=True, seed=0, deterministic=True, single_cls=False, rect=False, cos_lr=False, close_mosaic=10, resume=False, amp=True, fraction=1.0, profile=False, freeze=None, multi_scale=False, overlap_mask=True, mask_ratio=4, dropout=0.0, val=True, split=val, save_json=False, save_hybrid=False, conf=None, iou=0.7, max_det=300, half=False, dnn=False, plots=True, source=None, vid_stride=1, stream_buffer=False, visualize=False, augment=False, agnostic_nms=False, classes=None, retina_masks=False, embed=None, show=False, save_frames=False, save_txt=False, save_conf=False, save_crop=False, show_labels=True, show_conf=True, show_boxes=True, line_width=None, format=torchscript, keras=False, optimize=False, int8=False, dynamic=False, simplify=True, opset=None, workspace=4, nms=False, lr0=0.01, lrf=0.01, momentum=0.937, weight_decay=0.0005, warmup_epochs=3.0, warmup_momentum=0.8, warmup_bias_lr=0.1, box=7.5, cls=0.5, dfl=1.5, pose=12.0, kobj=1.0, label_smoothing=0.0, nbs=64, hsv_h=0.015, hsv_s=0.7, hsv_v=0.4, degrees=0.0, translate=0.1, scale=0.5, shear=0.0, perspective=0.0, flipud=0.0, fliplr=0.5, bgr=0.0, mosaic=1.0, mixup=0.0, copy_paste=0.0, copy_paste_mode=flip, auto_augment=randaugment, erasing=0.4, crop_fraction=1.0, cfg=None, tracker=botsort.yaml, save_dir=runs\\detect\\Model5\n",
      "Overriding model.yaml nc=80 with nc=2\n",
      "\n",
      "                   from  n    params  module                                       arguments                     \n",
      "  0                  -1  1       928  ultralytics.nn.modules.conv.Conv             [3, 32, 3, 2]                 \n",
      "  1                  -1  1     18560  ultralytics.nn.modules.conv.Conv             [32, 64, 3, 2]                \n",
      "  2                  -1  1     29056  ultralytics.nn.modules.block.C2f             [64, 64, 1, True]             \n",
      "  3                  -1  1     73984  ultralytics.nn.modules.conv.Conv             [64, 128, 3, 2]               \n",
      "  4                  -1  2    197632  ultralytics.nn.modules.block.C2f             [128, 128, 2, True]           \n",
      "  5                  -1  1    295424  ultralytics.nn.modules.conv.Conv             [128, 256, 3, 2]              \n",
      "  6                  -1  2    788480  ultralytics.nn.modules.block.C2f             [256, 256, 2, True]           \n",
      "  7                  -1  1   1180672  ultralytics.nn.modules.conv.Conv             [256, 512, 3, 2]              \n",
      "  8                  -1  1   1838080  ultralytics.nn.modules.block.C2f             [512, 512, 1, True]           \n",
      "  9                  -1  1    656896  ultralytics.nn.modules.block.SPPF            [512, 512, 5]                 \n",
      " 10                  -1  1         0  torch.nn.modules.upsampling.Upsample         [None, 2, 'nearest']          \n",
      " 11             [-1, 6]  1         0  ultralytics.nn.modules.conv.Concat           [1]                           \n",
      " 12                  -1  1    591360  ultralytics.nn.modules.block.C2f             [768, 256, 1]                 \n",
      " 13                  -1  1         0  torch.nn.modules.upsampling.Upsample         [None, 2, 'nearest']          \n",
      " 14             [-1, 4]  1         0  ultralytics.nn.modules.conv.Concat           [1]                           \n",
      " 15                  -1  1    148224  ultralytics.nn.modules.block.C2f             [384, 128, 1]                 \n",
      " 16                  -1  1    147712  ultralytics.nn.modules.conv.Conv             [128, 128, 3, 2]              \n",
      " 17            [-1, 12]  1         0  ultralytics.nn.modules.conv.Concat           [1]                           \n",
      " 18                  -1  1    493056  ultralytics.nn.modules.block.C2f             [384, 256, 1]                 \n",
      " 19                  -1  1    590336  ultralytics.nn.modules.conv.Conv             [256, 256, 3, 2]              \n",
      " 20             [-1, 9]  1         0  ultralytics.nn.modules.conv.Concat           [1]                           \n",
      " 21                  -1  1   1969152  ultralytics.nn.modules.block.C2f             [768, 512, 1]                 \n",
      " 22        [15, 18, 21]  1   2116822  ultralytics.nn.modules.head.Detect           [2, [128, 256, 512]]          \n",
      "YOLOv8s summary: 225 layers, 11,136,374 parameters, 11,136,358 gradients, 28.6 GFLOPs\n",
      "\n",
      "\u001b[34m\u001b[1mTensorBoard: \u001b[0mStart with 'tensorboard --logdir runs\\detect\\Model5', view at http://localhost:6006/\n",
      "Freezing layer 'model.22.dfl.conv.weight'\n"
     ]
    },
    {
     "name": "stderr",
     "output_type": "stream",
     "text": [
      "\u001b[34m\u001b[1mtrain: \u001b[0mScanning C:\\Users\\96657\\Downloads\\Oxford Pets.v2-by-species.voc\\dataset\\train.cache... 2523 images, 0 background\u001b[0m\n",
      "\u001b[34m\u001b[1mval: \u001b[0mScanning C:\\Users\\96657\\Downloads\\Oxford Pets.v2-by-species.voc\\dataset\\test.cache... 358 images, 0 backgrounds, 0\u001b[0m\n"
     ]
    },
    {
     "name": "stdout",
     "output_type": "stream",
     "text": [
      "Plotting labels to runs\\detect\\Model5\\labels.jpg... \n",
      "\u001b[34m\u001b[1moptimizer:\u001b[0m 'optimizer=auto' found, ignoring 'lr0=0.01' and 'momentum=0.937' and determining best 'optimizer', 'lr0' and 'momentum' automatically... \n",
      "\u001b[34m\u001b[1moptimizer:\u001b[0m AdamW(lr=0.001667, momentum=0.9) with parameter groups 57 weight(decay=0.0), 64 weight(decay=0.0005), 63 bias(decay=0.0)\n",
      "\u001b[34m\u001b[1mTensorBoard: \u001b[0mmodel graph visualization added \n",
      "Image sizes 640 train, 640 val\n",
      "Using 0 dataloader workers\n",
      "Logging results to \u001b[1mruns\\detect\\Model5\u001b[0m\n",
      "Starting training for 30 epochs...\n",
      "\n",
      "      Epoch    GPU_mem   box_loss   cls_loss   dfl_loss  Instances       Size\n"
     ]
    },
    {
     "name": "stderr",
     "output_type": "stream",
     "text": [
      "       1/30         0G      3.099      4.556      3.755          4        640: 100%|██████████| 316/316 [3:59:10<00:00,\n",
      "                 Class     Images  Instances      Box(P          R      mAP50  mAP50-95): 100%|██████████| 23/23 [02:34\n"
     ]
    },
    {
     "name": "stdout",
     "output_type": "stream",
     "text": [
      "                   all        358        358      0.509    0.00847    0.00453    0.00129\n",
      "\n",
      "      Epoch    GPU_mem   box_loss   cls_loss   dfl_loss  Instances       Size\n"
     ]
    },
    {
     "name": "stderr",
     "output_type": "stream",
     "text": [
      "       2/30         0G      2.816      3.693       2.99         14        640:  71%|███████   | 223/316 [2:34:44<1:07:1"
     ]
    }
   ],
   "source": [
    " #training the model\n",
    "model.train(data='data.yaml', epochs=30, batch=8, name='Model')"
   ]
  },
  {
   "cell_type": "code",
   "execution_count": null,
   "id": "fac37db0-598b-4165-89e5-5c7192d1d020",
   "metadata": {},
   "outputs": [],
   "source": []
  },
  {
   "cell_type": "code",
   "execution_count": null,
   "id": "2876baf5-4f4f-4672-8d5f-bd7e28ee0b90",
   "metadata": {},
   "outputs": [],
   "source": []
  }
 ],
 "metadata": {
  "kernelspec": {
   "display_name": "Python 3 (ipykernel)",
   "language": "python",
   "name": "python3"
  },
  "language_info": {
   "codemirror_mode": {
    "name": "ipython",
    "version": 3
   },
   "file_extension": ".py",
   "mimetype": "text/x-python",
   "name": "python",
   "nbconvert_exporter": "python",
   "pygments_lexer": "ipython3",
   "version": "3.12.6"
  }
 },
 "nbformat": 4,
 "nbformat_minor": 5
}
